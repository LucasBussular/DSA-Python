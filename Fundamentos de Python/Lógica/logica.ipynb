{
 "cells": [
  {
   "cell_type": "markdown",
   "metadata": {},
   "source": [
    "## Lógica de Programação\n"
   ]
  },
  {
   "cell_type": "markdown",
   "metadata": {},
   "source": [
    "### Primeiro código - calcular a área de um paralelogramo\n"
   ]
  },
  {
   "cell_type": "code",
   "execution_count": 2,
   "metadata": {},
   "outputs": [
    {
     "name": "stdout",
     "output_type": "stream",
     "text": [
      "Bem vindo ao calculador de área de paralelogramo\n",
      "a área do paralelogramo é: 18.0\n"
     ]
    }
   ],
   "source": [
    "print('Bem vindo ao calculador de área de paralelogramo')\n",
    "base = float(input(\"insira o comprimento da base do paralelogramo\"))\n",
    "altura = float(input(\"insira a altura do paralelogramo\"))\n",
    "area = base * altura\n",
    "print('a área do paralelogramo é:', area)"
   ]
  },
  {
   "cell_type": "code",
   "execution_count": 6,
   "metadata": {},
   "outputs": [
    {
     "name": "stdout",
     "output_type": "stream",
     "text": [
      "[1, 2, 4, 5, 9]\n"
     ]
    }
   ],
   "source": [
    "def BubbleSort(lista):\n",
    "    n = len(lista)\n",
    "\n",
    "    for i in range(n):\n",
    "        for j in range(0, n - i -1):\n",
    "            if lista[j] > lista[j+1]:\n",
    "                lista[j], lista[j+1] = lista[j+1], lista[j]\n",
    "\n",
    "    return lista\n",
    "\n",
    "lista = [5, 2, 9, 4, 1]\n",
    "listaOrdenada = BubbleSort(lista)\n",
    "print(listaOrdenada)"
   ]
  }
 ],
 "metadata": {
  "kernelspec": {
   "display_name": "base",
   "language": "python",
   "name": "python3"
  },
  "language_info": {
   "codemirror_mode": {
    "name": "ipython",
    "version": 3
   },
   "file_extension": ".py",
   "mimetype": "text/x-python",
   "name": "python",
   "nbconvert_exporter": "python",
   "pygments_lexer": "ipython3",
   "version": "3.12.7"
  }
 },
 "nbformat": 4,
 "nbformat_minor": 2
}
