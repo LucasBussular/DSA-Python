{
 "cells": [
  {
   "cell_type": "markdown",
   "metadata": {},
   "source": [
    "## Loops e condicionais em python:"
   ]
  },
  {
   "cell_type": "code",
   "execution_count": 2,
   "metadata": {},
   "outputs": [
    {
     "name": "stdout",
     "output_type": "stream",
     "text": [
      "não é maior!\n"
     ]
    }
   ],
   "source": [
    "# usamos a palavra reservada if:\n",
    "if 1 > 2:\n",
    "    print('é maior!')\n",
    "else:\n",
    "    print('não é maior!')"
   ]
  },
  {
   "cell_type": "code",
   "execution_count": 3,
   "metadata": {},
   "outputs": [
    {
     "name": "stdout",
     "output_type": "stream",
     "text": [
      "Hoje é Segunda!\n"
     ]
    }
   ],
   "source": [
    "# usando uma variável:\n",
    "dia = 'Segunda'\n",
    "if dia == 'Segunda':\n",
    "    print('Hoje é Segunda!')\n",
    "else:\n",
    "    print('Hoje não é Segunda!')"
   ]
  },
  {
   "cell_type": "code",
   "execution_count": 4,
   "metadata": {},
   "outputs": [
    {
     "name": "stdout",
     "output_type": "stream",
     "text": [
      "Hoje fará sol!\n"
     ]
    }
   ],
   "source": [
    "# podemos usar o 'elif':\n",
    "dia = 'Segunda'\n",
    "if dia == 'Segunda':\n",
    "    print('Hoje fará sol!')\n",
    "elif dia == 'Terça':\n",
    "    print('Hoje irá chover!')\n",
    "else:\n",
    "    print('Não temos informação sobre o clima hoje!')"
   ]
  },
  {
   "cell_type": "markdown",
   "metadata": {},
   "source": [
    "#### Operadores relacionais:"
   ]
  },
  {
   "cell_type": "markdown",
   "metadata": {},
   "source": [
    "Compara os elementos e retorna um valor booleano:\n",
    "Operadores: >, <, >=, <=, =="
   ]
  },
  {
   "cell_type": "code",
   "execution_count": null,
   "metadata": {},
   "outputs": [
    {
     "name": "stdout",
     "output_type": "stream",
     "text": [
      "Saia daqui! Você não é o Heitor!\n"
     ]
    },
    {
     "ename": "",
     "evalue": "",
     "output_type": "error",
     "traceback": [
      "\u001b[1;31mThe Kernel crashed while executing code in the current cell or a previous cell. \n",
      "\u001b[1;31mPlease review the code in the cell(s) to identify a possible cause of the failure. \n",
      "\u001b[1;31mClick <a href='https://aka.ms/vscodeJupyterKernelCrash'>here</a> for more info. \n",
      "\u001b[1;31mView Jupyter <a href='command:jupyter.viewOutput'>log</a> for further details."
     ]
    }
   ],
   "source": [
    "# Condicionais aninhadas:\n",
    "idade = 15\n",
    "nome = 'Jorge'\n",
    "if idade >= 15:\n",
    "    if nome == 'Heitor':\n",
    "        print('Heitor, você tem 15 anos!')\n",
    "    else:\n",
    "        print('Saia daqui! Você não é o Heitor!')   "
   ]
  },
  {
   "cell_type": "markdown",
   "metadata": {},
   "source": [
    "#### Operadores lógicos:"
   ]
  },
  {
   "cell_type": "markdown",
   "metadata": {},
   "source": [
    "- Operador and - retorna true se ambas são verdadeiras \n",
    "- Operador or - retorna true se uma ou outra é verdadeira \n",
    "- Operador not - inverte o resultado, true vira false "
   ]
  },
  {
   "cell_type": "code",
   "execution_count": 9,
   "metadata": {},
   "outputs": [
    {
     "name": "stdout",
     "output_type": "stream",
     "text": [
      "Você foi aprovado em Matemática com a nota final 95! Parabéns!\n"
     ]
    }
   ],
   "source": [
    "# Introduzindo Placeholders\n",
    "\n",
    "parametros = {'disciplina': 'Matemática',\n",
    "    'nota_final': 95,\n",
    "    'semestre': 3}\n",
    "\n",
    "if parametros['disciplina'] == 'Matemática' and parametros['nota_final'] >= 80 and parametros['semestre'] > 1:\n",
    "    print('Você foi aprovado em {disciplina} com a nota final {nota_final}! Parabéns!' .format(**parametros))\n",
    "else:\n",
    "    print('Você foi reprovado!')"
   ]
  },
  {
   "cell_type": "markdown",
   "metadata": {},
   "source": [
    "#### Loops:"
   ]
  },
  {
   "cell_type": "markdown",
   "metadata": {},
   "source": [
    "loops podem ser usados em qualquer coleção em python, percorrendo por toda ela; em python uma string é uma coleção de caracteres, uma tupla é uma coleção de elementos, um dicionário é uma coleção de chave e valor e uma lista é uma coleção de elementos."
   ]
  },
  {
   "cell_type": "markdown",
   "metadata": {},
   "source": [
    "##### Loop For:"
   ]
  },
  {
   "cell_type": "code",
   "execution_count": 11,
   "metadata": {},
   "outputs": [
    {
     "name": "stdout",
     "output_type": "stream",
     "text": [
      "18\n",
      "66\n",
      "22\n",
      "14\n"
     ]
    }
   ],
   "source": [
    "lista = [1, 5, 18, 35, 66, 22, 14]\n",
    "\n",
    "for i in lista:\n",
    "    if i % 2 == 0:\n",
    "        print(i)"
   ]
  },
  {
   "cell_type": "code",
   "execution_count": null,
   "metadata": {},
   "outputs": [],
   "source": [
    "for i in range(0,101,2):\n",
    "    if i % 2 == 0:\n",
    "        print(i)"
   ]
  },
  {
   "cell_type": "markdown",
   "metadata": {},
   "source": [
    "##### Loop For Aninhado:"
   ]
  },
  {
   "cell_type": "code",
   "execution_count": null,
   "metadata": {},
   "outputs": [],
   "source": [
    "lista1 = [0, 1, 2, 3, 4]\n",
    "lista2 = [1, 2, 3]\n",
    "\n",
    "# loop externo:\n",
    "for i in lista1:\n",
    "\n",
    "    # loop interno:\n",
    "    for j in lista2:\n",
    "        print('\\n', i * j)"
   ]
  },
  {
   "cell_type": "code",
   "execution_count": 22,
   "metadata": {},
   "outputs": [
    {
     "name": "stdout",
     "output_type": "stream",
     "text": [
      "140\n"
     ]
    }
   ],
   "source": [
    "lista1 = [10,16,88,45,61]\n",
    "lista2 = [17,2,23,24,15]\n",
    "soma = 0\n",
    "\n",
    "for lista in [lista1, lista2]:\n",
    "    for i in lista:\n",
    "        if i % 2 == 0:\n",
    "            soma += i\n",
    "\n",
    "print(soma)"
   ]
  },
  {
   "cell_type": "code",
   "execution_count": 24,
   "metadata": {},
   "outputs": [
    {
     "name": "stdout",
     "output_type": "stream",
     "text": [
      "140\n"
     ]
    }
   ],
   "source": [
    "# outra maneira de executar o problema anterior é usando a concatenação de listas:\n",
    "\n",
    "lista1 = [10,16,88,45,61]\n",
    "lista2 = [17,2,23,24,15]\n",
    "soma = 0\n",
    "\n",
    "for i in lista1 + lista2:\n",
    "    if i % 2 == 0:\n",
    "        soma += i\n",
    "\n",
    "print(soma)"
   ]
  },
  {
   "cell_type": "code",
   "execution_count": 25,
   "metadata": {},
   "outputs": [
    {
     "name": "stdout",
     "output_type": "stream",
     "text": [
      "215\n"
     ]
    }
   ],
   "source": [
    "# loop em lista de listas (matriz) para encontrar o maior número:\n",
    "\n",
    "matriz = [[42,23,34],[100,215,114],[10.1,98.7,12.3]]\n",
    "maior_numero = 0\n",
    "\n",
    "for lista in matriz:\n",
    "    for i in lista:\n",
    "        if i > maior_numero:\n",
    "            maior_numero = i\n",
    "print(maior_numero)"
   ]
  },
  {
   "cell_type": "code",
   "execution_count": 28,
   "metadata": {},
   "outputs": [
    {
     "name": "stdout",
     "output_type": "stream",
     "text": [
      "k1 Python\n",
      "k2 R\n",
      "k3 Scala\n"
     ]
    }
   ],
   "source": [
    "# listando um dicionário:\n",
    "\n",
    "dict = {'k1': 'Python', 'k2': 'R', 'k3': 'Scala'}\n",
    "\n",
    "for k, v in dict.items():\n",
    "    print(k, v)"
   ]
  },
  {
   "cell_type": "markdown",
   "metadata": {},
   "source": [
    "##### Loop While:\n"
   ]
  },
  {
   "cell_type": "markdown",
   "metadata": {},
   "source": [
    "Executa um comando enquanto uma condiocional for atendida.   \n",
    "Diferente do loop for, o loop while só iniciará se o valor for true em algum momento. Além disso, é preciso ter certeza que o loop será encerrado eventualmente, caso contrário o loop irá se repetir indefinidamente."
   ]
  },
  {
   "cell_type": "code",
   "execution_count": null,
   "metadata": {},
   "outputs": [],
   "source": [
    "valor = 0\n",
    "while valor < 10:\n",
    "    print(valor)\n",
    "    valor += 1"
   ]
  },
  {
   "cell_type": "markdown",
   "metadata": {},
   "source": [
    "Também podemos usar o ELSE para encerrar o loop While:"
   ]
  },
  {
   "cell_type": "code",
   "execution_count": null,
   "metadata": {},
   "outputs": [],
   "source": [
    "x = 0\n",
    "\n",
    "while x < 10:\n",
    "    print ('O valor é:', x, 'portanto menor que 10!')\n",
    "    x += 1\n",
    "else:\n",
    "    print ('Loop concluído!')\n",
    "print(x)"
   ]
  },
  {
   "cell_type": "markdown",
   "metadata": {},
   "source": [
    "Pass, break e continue:"
   ]
  },
  {
   "cell_type": "code",
   "execution_count": null,
   "metadata": {},
   "outputs": [],
   "source": [
    "# se encontrarmos o valor 4 interrompemos o loop:\n",
    "\n",
    "valor = 0\n",
    "while valor < 10:\n",
    "    if valor == 4:\n",
    "        break\n",
    "    else:\n",
    "        pass\n",
    "    print(valor)\n",
    "    valor += 1"
   ]
  },
  {
   "cell_type": "code",
   "execution_count": null,
   "metadata": {},
   "outputs": [],
   "source": [
    "# ignorar uma letra ou item ou número:\n",
    "frase = 'Meu nome é jjjjj Lucas'\n",
    "\n",
    "for i in frase:\n",
    "    if i == 'j':\n",
    "        continue # o continue garante que nenhuma ação será executada quando atendida a condição\n",
    "    print(i)"
   ]
  },
  {
   "cell_type": "code",
   "execution_count": 40,
   "metadata": {},
   "outputs": [
    {
     "name": "stdout",
     "output_type": "stream",
     "text": [
      "[2, 3, 5, 7, 11, 13, 17, 19, 23, 29]\n"
     ]
    }
   ],
   "source": [
    "# Loop while e for juntos:\n",
    "\n",
    "primos = []\n",
    "\n",
    "for num in range(2, 31):\n",
    "\n",
    "    eh_primo = True\n",
    "\n",
    "    i = 2\n",
    "    while i <= num // 2:\n",
    "        if num % i == 0:\n",
    "            eh_primo = False\n",
    "            break\n",
    "        i += 1\n",
    "\n",
    "    if eh_primo:\n",
    "        primos.append(num)\n",
    "\n",
    "print(primos)"
   ]
  },
  {
   "cell_type": "code",
   "execution_count": null,
   "metadata": {},
   "outputs": [],
   "source": [
    "# gerando intervalor de valores em python usando a função range:\n",
    "\n",
    "for i in range(1,11):\n",
    "    print(i)"
   ]
  },
  {
   "cell_type": "code",
   "execution_count": null,
   "metadata": {},
   "outputs": [],
   "source": [
    "for i in range(0, 10, 5):\n",
    "    print(i)"
   ]
  },
  {
   "cell_type": "code",
   "execution_count": null,
   "metadata": {},
   "outputs": [],
   "source": [
    "for i in range (0, -20, -2):\n",
    "    print(i)"
   ]
  },
  {
   "cell_type": "markdown",
   "metadata": {},
   "source": [
    "#### Métodos:"
   ]
  },
  {
   "cell_type": "markdown",
   "metadata": {},
   "source": [
    "Tudo em pyhton é um objeto e cada objeto é composto por métodos e atributos. Portanto, toda vez que usamos um objeto podemos acessar seus métodos. "
   ]
  },
  {
   "cell_type": "code",
   "execution_count": 47,
   "metadata": {},
   "outputs": [
    {
     "data": {
      "text/plain": [
       "list"
      ]
     },
     "execution_count": 47,
     "metadata": {},
     "output_type": "execute_result"
    }
   ],
   "source": [
    "lista = [100,5,15,35,24]\n",
    "type(lista)"
   ]
  },
  {
   "cell_type": "code",
   "execution_count": null,
   "metadata": {},
   "outputs": [],
   "source": [
    "\n",
    "# caso não saiba o que um método faz, podemos usar a função help:\n",
    "\n",
    "help(lista.append)"
   ]
  },
  {
   "cell_type": "code",
   "execution_count": null,
   "metadata": {},
   "outputs": [],
   "source": [
    "# para descobrir quais os possíveis métodos de um objeto, usamos a função dir:\n",
    "\n",
    "dir(lista)"
   ]
  },
  {
   "cell_type": "code",
   "execution_count": null,
   "metadata": {},
   "outputs": [],
   "source": [
    "frase = 'isso é uma string'\n",
    "dir(frase)"
   ]
  }
 ],
 "metadata": {
  "kernelspec": {
   "display_name": "base",
   "language": "python",
   "name": "python3"
  },
  "language_info": {
   "codemirror_mode": {
    "name": "ipython",
    "version": 3
   },
   "file_extension": ".py",
   "mimetype": "text/x-python",
   "name": "python",
   "nbconvert_exporter": "python",
   "pygments_lexer": "ipython3",
   "version": "3.12.7"
  }
 },
 "nbformat": 4,
 "nbformat_minor": 2
}
