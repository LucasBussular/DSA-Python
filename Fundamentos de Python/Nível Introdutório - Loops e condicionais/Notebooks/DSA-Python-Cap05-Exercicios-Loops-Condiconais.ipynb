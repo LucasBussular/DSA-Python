{
 "cells": [
  {
   "cell_type": "markdown",
   "metadata": {},
   "source": [
    "# <font color='blue'>Data Science Academy</font>\n",
    "\n",
    "## <font color='blue'>Fundamentos de Linguagem Python Para Análise de Dados e Data Science</font>\n",
    "\n",
    "## <font color='blue'>Capítulo 5 - Exercícios de Loops e Condicionais</font>"
   ]
  },
  {
   "cell_type": "code",
   "execution_count": null,
   "metadata": {},
   "outputs": [],
   "source": [
    "# Versão da Linguagem Python\n",
    "from platform import python_version\n",
    "print('Versão da Linguagem Python Usada Neste Jupyter Notebook:', python_version())"
   ]
  },
  {
   "cell_type": "markdown",
   "metadata": {},
   "source": [
    "## Exercícios - Loops e Condiconais"
   ]
  },
  {
   "cell_type": "code",
   "execution_count": 1,
   "metadata": {},
   "outputs": [
    {
     "name": "stdout",
     "output_type": "stream",
     "text": [
      "Hoje é dia de descanso!!\n"
     ]
    }
   ],
   "source": [
    "# Exercício 1 - Crie uma estrutura que pergunte ao usuário qual o dia da semana. Se o dia for igual a Domingo ou \n",
    "# igual a sábado, imprima na tela \"Hoje é dia de descanso\", caso contrário imprima na tela \"Você precisa trabalhar!\"\n",
    "dia = input('Qual o dia da semana?')\n",
    "if input == 'Domingo' or 'Sabado':\n",
    "    print('Hoje é dia de descanso!!')\n",
    "else:\n",
    "    print('Você precisa trabalhar!')"
   ]
  },
  {
   "cell_type": "code",
   "execution_count": 3,
   "metadata": {},
   "outputs": [
    {
     "name": "stdout",
     "output_type": "stream",
     "text": [
      "Morango está incluso\n"
     ]
    }
   ],
   "source": [
    "# Exercício 2 - Crie uma lista de 5 frutas e verifique se a fruta 'Morango' faz parte da lista\n",
    "frutas = ['Morango', 'Uva', 'Pêra', 'Kiwi', 'Tomate']\n",
    "if 'Morango' in frutas:\n",
    "    print('Morango está incluso')"
   ]
  },
  {
   "cell_type": "code",
   "execution_count": 4,
   "metadata": {},
   "outputs": [
    {
     "data": {
      "text/plain": [
       "[2, 10, 24, 68]"
      ]
     },
     "execution_count": 4,
     "metadata": {},
     "output_type": "execute_result"
    }
   ],
   "source": [
    "# Exercício 3 - Crie uma tupla de 4 elementos, multiplique cada elemento da tupla por 2 e guarde os resultados em uma \n",
    "# lista\n",
    "tupla_base = (1, 5, 12, 34)\n",
    "\n",
    "lista = []\n",
    "for i in tupla_base:\n",
    "    lista.append(i * 2)\n",
    "\n",
    "lista"
   ]
  },
  {
   "cell_type": "code",
   "execution_count": null,
   "metadata": {},
   "outputs": [],
   "source": [
    "# Exercício 4 - Crie uma sequência de números pares entre 100 e 150 e imprima na tela\n",
    "\n",
    "for number in range(100, 151):\n",
    "    if number % 2 == 0:\n",
    "        print(number)"
   ]
  },
  {
   "cell_type": "code",
   "execution_count": null,
   "metadata": {},
   "outputs": [],
   "source": [
    "# Exercício 5 - Crie uma variável chamada temperatura e atribua o valor 40. Enquanto temperatura for maior que 35, \n",
    "# imprima as temperaturas na tela\n",
    "\n"
   ]
  },
  {
   "cell_type": "code",
   "execution_count": 1,
   "metadata": {},
   "outputs": [
    {
     "name": "stdout",
     "output_type": "stream",
     "text": [
      "0\n",
      "1\n",
      "2\n",
      "3\n",
      "4\n",
      "5\n",
      "6\n",
      "7\n",
      "8\n",
      "9\n",
      "10\n",
      "11\n",
      "12\n",
      "13\n",
      "14\n",
      "15\n",
      "16\n",
      "17\n",
      "18\n",
      "19\n",
      "20\n",
      "21\n",
      "22\n",
      "23\n"
     ]
    }
   ],
   "source": [
    "# Exercício 6 - Crie uma variável chamada contador = 0. Enquanto counter for menor que 100, imprima os valores na tela,\n",
    "# mas quando for encontrado o valor 23, interrompa a execução do programa\n",
    "\n",
    "contador = 0\n",
    "\n",
    "while contador < 24:\n",
    "    print(contador) \n",
    "    contador += 1"
   ]
  },
  {
   "cell_type": "code",
   "execution_count": 4,
   "metadata": {},
   "outputs": [
    {
     "data": {
      "text/plain": [
       "[4, 6, 8, 10, 12, 14, 16, 18, 20]"
      ]
     },
     "execution_count": 4,
     "metadata": {},
     "output_type": "execute_result"
    }
   ],
   "source": [
    "# Exercício 7 - Crie uma lista vazia e uma variável com valor 4. Enquanto o valor da variável for menor ou igual a 20, \n",
    "# adicione à lista, apenas os valores pares e imprima a lista\n",
    "\n",
    "lista = []\n",
    "valor = 4\n",
    "\n",
    "while valor <= 20:\n",
    "    if valor % 2 == 0:\n",
    "        lista.append(valor)\n",
    "    valor += 1\n",
    "\n",
    "lista"
   ]
  },
  {
   "cell_type": "code",
   "execution_count": 6,
   "metadata": {},
   "outputs": [
    {
     "data": {
      "text/plain": [
       "[5, 7, 9, 11, 13, 15, 17, 19, 21, 23, 25, 27, 29, 31, 33, 35, 37, 39, 41, 43]"
      ]
     },
     "execution_count": 6,
     "metadata": {},
     "output_type": "execute_result"
    }
   ],
   "source": [
    "# Exercício 8 - Transforme o resultado desta função range em uma lista: range(5, 45, 2)\n",
    "nums = range(5, 45, 2)\n",
    "lista = []\n",
    "\n",
    "for num in nums:\n",
    "    lista.append(num)\n",
    "\n",
    "lista"
   ]
  },
  {
   "cell_type": "code",
   "execution_count": 8,
   "metadata": {},
   "outputs": [
    {
     "name": "stdout",
     "output_type": "stream",
     "text": [
      "Busque seus casacos.\n"
     ]
    }
   ],
   "source": [
    "# Exercício 9 - Faça a correção dos erros no código abaixo e execute o programa. Dica: são 3 erros.\n",
    "temperatura = float(input('Qual a temperatura? '))\n",
    "if temperatura > 30:\n",
    "    print('Vista roupas leves.')\n",
    "else:\n",
    "    print('Busque seus casacos.')"
   ]
  },
  {
   "cell_type": "code",
   "execution_count": 9,
   "metadata": {},
   "outputs": [
    {
     "data": {
      "text/plain": [
       "5"
      ]
     },
     "execution_count": 9,
     "metadata": {},
     "output_type": "execute_result"
    }
   ],
   "source": [
    "# Exercício 10 - Faça um programa que conte quantas vezes a letra \"r\" aparece na frase abaixo. Use um placeholder na \n",
    "# sua instrução de impressão\n",
    "\n",
    "# “A gratidão é a virtude das almas nobres. O quão feliz é uma pessoa depende da profundidade de sua gratidão.” \n",
    "\n",
    "frase = \"A gratidão é a virtude das almas nobres. O quão feliz é uma pessoa depende da profundidade de sua gratidão.\" \n",
    "\n",
    "contador = 0\n",
    "\n",
    "for x in frase:\n",
    "    if x == 'r':\n",
    "        contador += 1\n",
    "\n",
    "contador"
   ]
  },
  {
   "cell_type": "markdown",
   "metadata": {},
   "source": [
    "# Fim"
   ]
  },
  {
   "cell_type": "markdown",
   "metadata": {},
   "source": [
    "### Obrigado\n",
    "\n",
    "### Visite o Blog da Data Science Academy - <a href=\"http://blog.dsacademy.com.br\">Blog DSA</a>"
   ]
  }
 ],
 "metadata": {
  "kernelspec": {
   "display_name": "base",
   "language": "python",
   "name": "python3"
  },
  "language_info": {
   "codemirror_mode": {
    "name": "ipython",
    "version": 3
   },
   "file_extension": ".py",
   "mimetype": "text/x-python",
   "name": "python",
   "nbconvert_exporter": "python",
   "pygments_lexer": "ipython3",
   "version": "3.12.7"
  }
 },
 "nbformat": 4,
 "nbformat_minor": 1
}
